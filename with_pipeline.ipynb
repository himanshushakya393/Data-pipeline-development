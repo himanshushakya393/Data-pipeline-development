{
 "cells": [
  {
   "cell_type": "code",
   "execution_count": null,
   "id": "317c3f84",
   "metadata": {},
   "outputs": [],
   "source": [
    "import numpy as np\n",
    "import pandas as pd"
   ]
  },
  {
   "cell_type": "code",
   "execution_count": null,
   "id": "402f2c7c",
   "metadata": {},
   "outputs": [],
   "source": [
    "from sklearn.model_selection import train_test_split\n",
    "from sklearn.compose import ColumnTransformer\n",
    "from sklearn.impute import SimpleImputer\n",
    "from sklearn.preprocessing import OneHotEncoder\n",
    "from sklearn.preprocessing import MinMaxScaler\n",
    "from sklearn.pipeline import Pipeline,make_pipeline\n",
    "from sklearn.feature_selection import SelectKBest,chi2\n",
    "from sklearn.tree import DecisionTreeClassifier"
   ]
  },
  {
   "cell_type": "code",
   "execution_count": null,
   "id": "c4c8bd8e",
   "metadata": {},
   "outputs": [],
   "source": [
    "df = pd.read_csv(\"Titanic-Dataset.csv\")"
   ]
  },
  {
   "cell_type": "code",
   "execution_count": null,
   "id": "ae78a2e9",
   "metadata": {},
   "outputs": [],
   "source": [
    "df.head()"
   ]
  },
  {
   "cell_type": "code",
   "execution_count": null,
   "id": "59170b6b",
   "metadata": {},
   "outputs": [],
   "source": [
    "df.drop(columns= [\"Name\",\"PassengerId\",\"Ticket\",\"Cabin\"],inplace =True)"
   ]
  },
  {
   "cell_type": "code",
   "execution_count": null,
   "id": "daa8249e",
   "metadata": {},
   "outputs": [],
   "source": [
    "#step 1 train/test/split\n",
    "x_train, x_test, y_train, y_test = train_test_split(df.drop(columns = [\"Survived\"]),df[\"Survived\"], test_size = 0.2,random_state=42)"
   ]
  },
  {
   "cell_type": "code",
   "execution_count": null,
   "id": "2e931b3b",
   "metadata": {},
   "outputs": [],
   "source": [
    "x_train.head()"
   ]
  },
  {
   "cell_type": "code",
   "execution_count": null,
   "id": "54da55d3",
   "metadata": {},
   "outputs": [],
   "source": [
    "y_train.sample(8)"
   ]
  },
  {
   "cell_type": "code",
   "execution_count": null,
   "id": "46ccd599",
   "metadata": {},
   "outputs": [],
   "source": [
    "#imputation transformer\n",
    "trf1 = ColumnTransformer([\n",
    "    (\"impute_age\",SimpleImputer(),[2]),\n",
    "    (\"impute_embarked\",SimpleImputer(strategy = \"most_frequent\"),[6])\n",
    "],remainder=\"passthrough\")"
   ]
  },
  {
   "cell_type": "code",
   "execution_count": null,
   "id": "0a7c897c",
   "metadata": {},
   "outputs": [],
   "source": [
    "#one hot encoder\n",
    "trf2 = ColumnTransformer([(\"ohe_sex_embarked\",OneHotEncoder(sparse_output=False,handle_unknown=\"ignore\"),[1,6])],remainder =\"passthrough\")"
   ]
  },
  {
   "cell_type": "code",
   "execution_count": null,
   "id": "7a9b0a21",
   "metadata": {},
   "outputs": [],
   "source": [
    "#scaling\n",
    "trf3 = ColumnTransformer([(\"scale\",MinMaxScaler(),slice(0,10))])"
   ]
  },
  {
   "cell_type": "code",
   "execution_count": null,
   "id": "85bbe582",
   "metadata": {},
   "outputs": [],
   "source": [
    "#feature selection\n",
    "trf4 = SelectKBest(score_func=chi2,k=5)"
   ]
  },
  {
   "cell_type": "code",
   "execution_count": null,
   "id": "972259d9",
   "metadata": {},
   "outputs": [],
   "source": [
    "#train the model\n",
    "trf5 = DecisionTreeClassifier()"
   ]
  },
  {
   "cell_type": "markdown",
   "id": "2df86727",
   "metadata": {},
   "source": [
    "Create Pipeline"
   ]
  },
  {
   "cell_type": "code",
   "execution_count": null,
   "id": "c16626ed",
   "metadata": {},
   "outputs": [],
   "source": [
    "pipe = Pipeline([\n",
    "    (\"trf1\",trf1),\n",
    "    (\"trf2\",trf2),\n",
    "    (\"trf3\",trf3),\n",
    "    (\"trf4\",trf4),\n",
    "    (\"trf5\", trf5)\n",
    "])"
   ]
  },
  {
   "cell_type": "code",
   "execution_count": null,
   "id": "88cd0e67",
   "metadata": {},
   "outputs": [],
   "source": [
    "#altetnate syntax\n",
    "pipe = make_pipeline(trf1,trf2,trf3,trf4, trf5)"
   ]
  },
  {
   "cell_type": "code",
   "execution_count": null,
   "id": "da75dc03",
   "metadata": {},
   "outputs": [],
   "source": [
    "x_trf1 = trf1.fit_transform(x_train)\n",
    "print(x_trf1.shape)"
   ]
  },
  {
   "cell_type": "code",
   "execution_count": null,
   "id": "f1a51d77",
   "metadata": {},
   "outputs": [],
   "source": [
    "# Step 2: one-hot encoding\n",
    "x_trf2 = trf2.fit_transform(x_trf1)\n",
    "print(x_trf2.shape)"
   ]
  },
  {
   "cell_type": "code",
   "execution_count": null,
   "id": "86cbe62c",
   "metadata": {},
   "outputs": [],
   "source": [
    "# Step 3: scaling\n",
    "x_trf3 = trf3.fit_transform(x_trf2)\n",
    "print(x_trf3.shape)"
   ]
  },
  {
   "cell_type": "code",
   "execution_count": null,
   "id": "23306276",
   "metadata": {},
   "outputs": [],
   "source": [
    "#display pipeline\n",
    "from sklearn import set_config\n",
    "set_config(display='diagram')"
   ]
  },
  {
   "cell_type": "code",
   "execution_count": null,
   "id": "aaf82d4d",
   "metadata": {},
   "outputs": [],
   "source": [
    "#train\n",
    "pipe.fit(x_train,y_train)"
   ]
  },
  {
   "cell_type": "markdown",
   "id": "cd4ea89f",
   "metadata": {},
   "source": [
    "explore the pipeline"
   ]
  },
  {
   "cell_type": "code",
   "execution_count": null,
   "id": "50917c0c",
   "metadata": {},
   "outputs": [],
   "source": [
    "pipe.named_steps[\"columntransformer-1\"].transformers_[1][1].statistics_"
   ]
  },
  {
   "cell_type": "code",
   "execution_count": null,
   "id": "4e2fcc8b",
   "metadata": {},
   "outputs": [],
   "source": [
    "print(pipe.named_steps.keys())"
   ]
  },
  {
   "cell_type": "code",
   "execution_count": null,
   "id": "3d997d76",
   "metadata": {},
   "outputs": [],
   "source": [
    "y_pred = pipe.predict(x_test)"
   ]
  },
  {
   "cell_type": "code",
   "execution_count": null,
   "id": "50bb5d1c",
   "metadata": {},
   "outputs": [],
   "source": [
    "y_pred"
   ]
  },
  {
   "cell_type": "code",
   "execution_count": null,
   "id": "3d524c7d",
   "metadata": {},
   "outputs": [],
   "source": [
    "from sklearn.metrics import accuracy_score\n",
    "accuracy_score(y_test,y_pred)"
   ]
  },
  {
   "cell_type": "markdown",
   "id": "2043c09a",
   "metadata": {},
   "source": [
    "GridSearch using Pipeline"
   ]
  },
  {
   "cell_type": "code",
   "execution_count": null,
   "id": "a58df782",
   "metadata": {},
   "outputs": [],
   "source": [
    "#GridsearchCV\n",
    "params = {\n",
    "    \"decisiontreeclassifier__max_depth\":[1, 2, 3, 4, 5, None]\n",
    "}"
   ]
  },
  {
   "cell_type": "code",
   "execution_count": null,
   "id": "2f8bc087",
   "metadata": {},
   "outputs": [],
   "source": [
    "from sklearn.model_selection import GridSearchCV\n",
    "\n",
    "grid = GridSearchCV(\n",
    "    estimator=pipe,\n",
    "    param_grid=params,\n",
    "    cv=5,\n",
    "    scoring=\"accuracy\"\n",
    ")\n",
    "\n",
    "grid.fit(x_train, y_train)"
   ]
  },
  {
   "cell_type": "code",
   "execution_count": null,
   "id": "0df584c4",
   "metadata": {},
   "outputs": [],
   "source": [
    "print(\"Best Parameters:\", grid.best_params_)\n",
    "print(\"Best Score:\", grid.best_score_)"
   ]
  },
  {
   "cell_type": "code",
   "execution_count": null,
   "id": "8d95e201",
   "metadata": {},
   "outputs": [],
   "source": [
    "print(x_train.shape)\n",
    "print(y_train.shape)"
   ]
  },
  {
   "cell_type": "code",
   "execution_count": null,
   "id": "88e6ca5a",
   "metadata": {},
   "outputs": [],
   "source": [
    "print(pipe.get_params().keys())"
   ]
  },
  {
   "cell_type": "markdown",
   "id": "42a8b2d0",
   "metadata": {},
   "source": [
    "Exporting the Pipeline"
   ]
  },
  {
   "cell_type": "code",
   "execution_count": null,
   "id": "34600ff3",
   "metadata": {},
   "outputs": [],
   "source": [
    "import pickle\n",
    "pickle.dump(pipe,open(\"pipe.pkl\",\"wb\"))"
   ]
  },
  {
   "cell_type": "code",
   "execution_count": null,
   "id": "380910c2",
   "metadata": {},
   "outputs": [],
   "source": []
  }
 ],
 "metadata": {
  "kernelspec": {
   "display_name": "Python 3",
   "language": "python",
   "name": "python3"
  },
  "language_info": {
   "codemirror_mode": {
    "name": "ipython",
    "version": 3
   },
   "file_extension": ".py",
   "mimetype": "text/x-python",
   "name": "python",
   "nbconvert_exporter": "python",
   "pygments_lexer": "ipython3",
   "version": "3.13.3"
  }
 },
 "nbformat": 4,
 "nbformat_minor": 5
}
